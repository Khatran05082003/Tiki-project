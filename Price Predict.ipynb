{
 "cells": [
  {
   "cell_type": "code",
   "execution_count": 1,
   "id": "10246bda",
   "metadata": {},
   "outputs": [],
   "source": [
    "import pandas as pd\n",
    "import numpy as np\n",
    "import matplotlib.pyplot as plt\n",
    "import seaborn as sns"
   ]
  },
  {
   "cell_type": "code",
   "execution_count": 2,
   "id": "9d73bde4",
   "metadata": {},
   "outputs": [],
   "source": [
    "df=pd.read_csv(\"C:/Users/ACER/Downloads/product/product_data0.csv\")\n",
    "for i in range(1,25):\n",
    "    try:\n",
    "        df2=pd.read_csv(\"C:/Users/ACER/Downloads/product/product_data{}.csv\".format(i))\n",
    "        df = pd.concat([df, df2], axis=0)\n",
    "    except:\n",
    "        continue\n",
    "df.to_csv(\"C:/Users/ACER/Downloads/data_demo.csv\")"
   ]
  },
  {
   "cell_type": "code",
   "execution_count": 3,
   "id": "41fb178c",
   "metadata": {
    "scrolled": false
   },
   "outputs": [
    {
     "name": "stdout",
     "output_type": "stream",
     "text": [
      "<class 'pandas.core.frame.DataFrame'>\n",
      "Int64Index: 2790 entries, 0 to 110\n",
      "Data columns (total 21 columns):\n",
      " #   Column                   Non-Null Count  Dtype  \n",
      "---  ------                   --------------  -----  \n",
      " 0   id                       2790 non-null   float64\n",
      " 1   sku                      2790 non-null   float64\n",
      " 2   short_description        2790 non-null   object \n",
      " 3   price                    2790 non-null   float64\n",
      " 4   list_price               2790 non-null   float64\n",
      " 5   price_usd                0 non-null      float64\n",
      " 6   discount                 2790 non-null   float64\n",
      " 7   discount_rate            2790 non-null   float64\n",
      " 8   review_count             2790 non-null   float64\n",
      " 9   order_count              0 non-null      float64\n",
      " 10  inventory_status         2790 non-null   object \n",
      " 11  is_visible               0 non-null      float64\n",
      " 12  stock_item_qty           2790 non-null   float64\n",
      " 13  stock_item_max_sale_qty  2790 non-null   float64\n",
      " 14  product_name             0 non-null      float64\n",
      " 15  brand_id                 2790 non-null   float64\n",
      " 16  brand_name               2790 non-null   object \n",
      " 17  quantity_sold            2790 non-null   float64\n",
      " 18  rating_average           2790 non-null   float64\n",
      " 19  category_type            2790 non-null   object \n",
      " 20  category_id              2790 non-null   object \n",
      "dtypes: float64(16), object(5)\n",
      "memory usage: 479.5+ KB\n"
     ]
    }
   ],
   "source": [
    "df.info()"
   ]
  },
  {
   "cell_type": "code",
   "execution_count": 4,
   "id": "63bf05d8",
   "metadata": {},
   "outputs": [
    {
     "data": {
      "text/html": [
       "<div>\n",
       "<style scoped>\n",
       "    .dataframe tbody tr th:only-of-type {\n",
       "        vertical-align: middle;\n",
       "    }\n",
       "\n",
       "    .dataframe tbody tr th {\n",
       "        vertical-align: top;\n",
       "    }\n",
       "\n",
       "    .dataframe thead th {\n",
       "        text-align: right;\n",
       "    }\n",
       "</style>\n",
       "<table border=\"1\" class=\"dataframe\">\n",
       "  <thead>\n",
       "    <tr style=\"text-align: right;\">\n",
       "      <th></th>\n",
       "      <th>price</th>\n",
       "      <th>list_price</th>\n",
       "      <th>discount</th>\n",
       "      <th>discount_rate</th>\n",
       "      <th>review_count</th>\n",
       "      <th>brand_id</th>\n",
       "      <th>brand_name</th>\n",
       "      <th>quantity_sold</th>\n",
       "      <th>rating_average</th>\n",
       "      <th>category_type</th>\n",
       "      <th>category_id</th>\n",
       "    </tr>\n",
       "  </thead>\n",
       "  <tbody>\n",
       "    <tr>\n",
       "      <th>0</th>\n",
       "      <td>808000.0</td>\n",
       "      <td>954556.0</td>\n",
       "      <td>146556.0</td>\n",
       "      <td>15.0</td>\n",
       "      <td>808.0</td>\n",
       "      <td>145924.0</td>\n",
       "      <td>Ensure</td>\n",
       "      <td>28546.0</td>\n",
       "      <td>4.8</td>\n",
       "      <td>do-choi-me-be</td>\n",
       "      <td>2549</td>\n",
       "    </tr>\n",
       "    <tr>\n",
       "      <th>1</th>\n",
       "      <td>919000.0</td>\n",
       "      <td>1078000.0</td>\n",
       "      <td>159000.0</td>\n",
       "      <td>15.0</td>\n",
       "      <td>302.0</td>\n",
       "      <td>149737.0</td>\n",
       "      <td>Pediasure</td>\n",
       "      <td>2764.0</td>\n",
       "      <td>5.0</td>\n",
       "      <td>do-choi-me-be</td>\n",
       "      <td>2549</td>\n",
       "    </tr>\n",
       "    <tr>\n",
       "      <th>2</th>\n",
       "      <td>599000.0</td>\n",
       "      <td>733282.0</td>\n",
       "      <td>134282.0</td>\n",
       "      <td>18.0</td>\n",
       "      <td>528.0</td>\n",
       "      <td>149737.0</td>\n",
       "      <td>Pediasure</td>\n",
       "      <td>8055.0</td>\n",
       "      <td>4.8</td>\n",
       "      <td>do-choi-me-be</td>\n",
       "      <td>2549</td>\n",
       "    </tr>\n",
       "    <tr>\n",
       "      <th>3</th>\n",
       "      <td>1005000.0</td>\n",
       "      <td>1238569.0</td>\n",
       "      <td>233569.0</td>\n",
       "      <td>19.0</td>\n",
       "      <td>716.0</td>\n",
       "      <td>149737.0</td>\n",
       "      <td>Pediasure</td>\n",
       "      <td>12707.0</td>\n",
       "      <td>4.8</td>\n",
       "      <td>do-choi-me-be</td>\n",
       "      <td>2549</td>\n",
       "    </tr>\n",
       "    <tr>\n",
       "      <th>4</th>\n",
       "      <td>1239000.0</td>\n",
       "      <td>1426944.0</td>\n",
       "      <td>187944.0</td>\n",
       "      <td>13.0</td>\n",
       "      <td>257.0</td>\n",
       "      <td>149741.0</td>\n",
       "      <td>Glucerna</td>\n",
       "      <td>2837.0</td>\n",
       "      <td>5.0</td>\n",
       "      <td>do-choi-me-be</td>\n",
       "      <td>2549</td>\n",
       "    </tr>\n",
       "    <tr>\n",
       "      <th>...</th>\n",
       "      <td>...</td>\n",
       "      <td>...</td>\n",
       "      <td>...</td>\n",
       "      <td>...</td>\n",
       "      <td>...</td>\n",
       "      <td>...</td>\n",
       "      <td>...</td>\n",
       "      <td>...</td>\n",
       "      <td>...</td>\n",
       "      <td>...</td>\n",
       "      <td>...</td>\n",
       "    </tr>\n",
       "    <tr>\n",
       "      <th>106</th>\n",
       "      <td>1019000.0</td>\n",
       "      <td>1019000.0</td>\n",
       "      <td>0.0</td>\n",
       "      <td>0.0</td>\n",
       "      <td>1.0</td>\n",
       "      <td>27464.0</td>\n",
       "      <td>TP-Link</td>\n",
       "      <td>1.0</td>\n",
       "      <td>5.0</td>\n",
       "      <td>may-anh</td>\n",
       "      <td>1801</td>\n",
       "    </tr>\n",
       "    <tr>\n",
       "      <th>107</th>\n",
       "      <td>1350000.0</td>\n",
       "      <td>2000000.0</td>\n",
       "      <td>650000.0</td>\n",
       "      <td>33.0</td>\n",
       "      <td>11.0</td>\n",
       "      <td>545395.0</td>\n",
       "      <td>ASPORT</td>\n",
       "      <td>31.0</td>\n",
       "      <td>4.5</td>\n",
       "      <td>may-anh</td>\n",
       "      <td>1801</td>\n",
       "    </tr>\n",
       "    <tr>\n",
       "      <th>108</th>\n",
       "      <td>2000000.0</td>\n",
       "      <td>2000000.0</td>\n",
       "      <td>0.0</td>\n",
       "      <td>0.0</td>\n",
       "      <td>43.0</td>\n",
       "      <td>228755.0</td>\n",
       "      <td>Andbon</td>\n",
       "      <td>205.0</td>\n",
       "      <td>4.8</td>\n",
       "      <td>may-anh</td>\n",
       "      <td>1801</td>\n",
       "    </tr>\n",
       "    <tr>\n",
       "      <th>109</th>\n",
       "      <td>129999.0</td>\n",
       "      <td>129999.0</td>\n",
       "      <td>0.0</td>\n",
       "      <td>0.0</td>\n",
       "      <td>11.0</td>\n",
       "      <td>193617.0</td>\n",
       "      <td>VSGO</td>\n",
       "      <td>31.0</td>\n",
       "      <td>4.6</td>\n",
       "      <td>may-anh</td>\n",
       "      <td>1801</td>\n",
       "    </tr>\n",
       "    <tr>\n",
       "      <th>110</th>\n",
       "      <td>648999.0</td>\n",
       "      <td>648999.0</td>\n",
       "      <td>0.0</td>\n",
       "      <td>0.0</td>\n",
       "      <td>44.0</td>\n",
       "      <td>153086.0</td>\n",
       "      <td>RAVPower</td>\n",
       "      <td>134.0</td>\n",
       "      <td>4.8</td>\n",
       "      <td>may-anh</td>\n",
       "      <td>1801</td>\n",
       "    </tr>\n",
       "  </tbody>\n",
       "</table>\n",
       "<p>2790 rows × 11 columns</p>\n",
       "</div>"
      ],
      "text/plain": [
       "         price  list_price  discount  discount_rate  review_count  brand_id  \\\n",
       "0     808000.0    954556.0  146556.0           15.0         808.0  145924.0   \n",
       "1     919000.0   1078000.0  159000.0           15.0         302.0  149737.0   \n",
       "2     599000.0    733282.0  134282.0           18.0         528.0  149737.0   \n",
       "3    1005000.0   1238569.0  233569.0           19.0         716.0  149737.0   \n",
       "4    1239000.0   1426944.0  187944.0           13.0         257.0  149741.0   \n",
       "..         ...         ...       ...            ...           ...       ...   \n",
       "106  1019000.0   1019000.0       0.0            0.0           1.0   27464.0   \n",
       "107  1350000.0   2000000.0  650000.0           33.0          11.0  545395.0   \n",
       "108  2000000.0   2000000.0       0.0            0.0          43.0  228755.0   \n",
       "109   129999.0    129999.0       0.0            0.0          11.0  193617.0   \n",
       "110   648999.0    648999.0       0.0            0.0          44.0  153086.0   \n",
       "\n",
       "    brand_name  quantity_sold  rating_average  category_type category_id  \n",
       "0       Ensure        28546.0             4.8  do-choi-me-be        2549  \n",
       "1    Pediasure         2764.0             5.0  do-choi-me-be        2549  \n",
       "2    Pediasure         8055.0             4.8  do-choi-me-be        2549  \n",
       "3    Pediasure        12707.0             4.8  do-choi-me-be        2549  \n",
       "4     Glucerna         2837.0             5.0  do-choi-me-be        2549  \n",
       "..         ...            ...             ...            ...         ...  \n",
       "106    TP-Link            1.0             5.0        may-anh        1801  \n",
       "107     ASPORT           31.0             4.5        may-anh        1801  \n",
       "108     Andbon          205.0             4.8        may-anh        1801  \n",
       "109       VSGO           31.0             4.6        may-anh        1801  \n",
       "110   RAVPower          134.0             4.8        may-anh        1801  \n",
       "\n",
       "[2790 rows x 11 columns]"
      ]
     },
     "execution_count": 4,
     "metadata": {},
     "output_type": "execute_result"
    }
   ],
   "source": [
    "df=df.drop(['id','sku','short_description','price_usd','order_count','inventory_status','is_visible','stock_item_qty','stock_item_max_sale_qty','product_name'],axis=1)\n",
    "df"
   ]
  },
  {
   "cell_type": "code",
   "execution_count": 5,
   "id": "544d6b0d",
   "metadata": {},
   "outputs": [
    {
     "data": {
      "text/html": [
       "<div>\n",
       "<style scoped>\n",
       "    .dataframe tbody tr th:only-of-type {\n",
       "        vertical-align: middle;\n",
       "    }\n",
       "\n",
       "    .dataframe tbody tr th {\n",
       "        vertical-align: top;\n",
       "    }\n",
       "\n",
       "    .dataframe thead th {\n",
       "        text-align: right;\n",
       "    }\n",
       "</style>\n",
       "<table border=\"1\" class=\"dataframe\">\n",
       "  <thead>\n",
       "    <tr style=\"text-align: right;\">\n",
       "      <th></th>\n",
       "      <th>price</th>\n",
       "      <th>list_price</th>\n",
       "      <th>discount</th>\n",
       "      <th>discount_rate</th>\n",
       "      <th>review_count</th>\n",
       "      <th>brand_id</th>\n",
       "      <th>quantity_sold</th>\n",
       "      <th>rating_average</th>\n",
       "    </tr>\n",
       "  </thead>\n",
       "  <tbody>\n",
       "    <tr>\n",
       "      <th>count</th>\n",
       "      <td>2.790000e+03</td>\n",
       "      <td>2.790000e+03</td>\n",
       "      <td>2.790000e+03</td>\n",
       "      <td>2790.000000</td>\n",
       "      <td>2790.000000</td>\n",
       "      <td>2.790000e+03</td>\n",
       "      <td>2790.000000</td>\n",
       "      <td>2790.000000</td>\n",
       "    </tr>\n",
       "    <tr>\n",
       "      <th>mean</th>\n",
       "      <td>6.643494e+05</td>\n",
       "      <td>8.391714e+05</td>\n",
       "      <td>1.748220e+05</td>\n",
       "      <td>14.543728</td>\n",
       "      <td>127.037634</td>\n",
       "      <td>8.486860e+05</td>\n",
       "      <td>966.222222</td>\n",
       "      <td>4.462545</td>\n",
       "    </tr>\n",
       "    <tr>\n",
       "      <th>std</th>\n",
       "      <td>2.438186e+06</td>\n",
       "      <td>2.914660e+06</td>\n",
       "      <td>7.634445e+05</td>\n",
       "      <td>18.161916</td>\n",
       "      <td>362.084557</td>\n",
       "      <td>1.764802e+06</td>\n",
       "      <td>4178.606295</td>\n",
       "      <td>1.001536</td>\n",
       "    </tr>\n",
       "    <tr>\n",
       "      <th>min</th>\n",
       "      <td>2.000000e+03</td>\n",
       "      <td>2.000000e+03</td>\n",
       "      <td>0.000000e+00</td>\n",
       "      <td>0.000000</td>\n",
       "      <td>0.000000</td>\n",
       "      <td>1.782500e+04</td>\n",
       "      <td>1.000000</td>\n",
       "      <td>0.000000</td>\n",
       "    </tr>\n",
       "    <tr>\n",
       "      <th>25%</th>\n",
       "      <td>9.200000e+04</td>\n",
       "      <td>1.000000e+05</td>\n",
       "      <td>0.000000e+00</td>\n",
       "      <td>0.000000</td>\n",
       "      <td>3.000000</td>\n",
       "      <td>1.114610e+05</td>\n",
       "      <td>11.000000</td>\n",
       "      <td>4.500000</td>\n",
       "    </tr>\n",
       "    <tr>\n",
       "      <th>50%</th>\n",
       "      <td>1.810000e+05</td>\n",
       "      <td>2.200000e+05</td>\n",
       "      <td>6.714500e+03</td>\n",
       "      <td>5.000000</td>\n",
       "      <td>17.000000</td>\n",
       "      <td>1.114610e+05</td>\n",
       "      <td>73.000000</td>\n",
       "      <td>4.700000</td>\n",
       "    </tr>\n",
       "    <tr>\n",
       "      <th>75%</th>\n",
       "      <td>4.050000e+05</td>\n",
       "      <td>5.057500e+05</td>\n",
       "      <td>9.100000e+04</td>\n",
       "      <td>28.000000</td>\n",
       "      <td>88.000000</td>\n",
       "      <td>3.689340e+05</td>\n",
       "      <td>447.000000</td>\n",
       "      <td>5.000000</td>\n",
       "    </tr>\n",
       "    <tr>\n",
       "      <th>max</th>\n",
       "      <td>5.600000e+07</td>\n",
       "      <td>5.600000e+07</td>\n",
       "      <td>1.300000e+07</td>\n",
       "      <td>92.000000</td>\n",
       "      <td>6739.000000</td>\n",
       "      <td>8.140035e+06</td>\n",
       "      <td>127617.000000</td>\n",
       "      <td>5.000000</td>\n",
       "    </tr>\n",
       "  </tbody>\n",
       "</table>\n",
       "</div>"
      ],
      "text/plain": [
       "              price    list_price      discount  discount_rate  review_count  \\\n",
       "count  2.790000e+03  2.790000e+03  2.790000e+03    2790.000000   2790.000000   \n",
       "mean   6.643494e+05  8.391714e+05  1.748220e+05      14.543728    127.037634   \n",
       "std    2.438186e+06  2.914660e+06  7.634445e+05      18.161916    362.084557   \n",
       "min    2.000000e+03  2.000000e+03  0.000000e+00       0.000000      0.000000   \n",
       "25%    9.200000e+04  1.000000e+05  0.000000e+00       0.000000      3.000000   \n",
       "50%    1.810000e+05  2.200000e+05  6.714500e+03       5.000000     17.000000   \n",
       "75%    4.050000e+05  5.057500e+05  9.100000e+04      28.000000     88.000000   \n",
       "max    5.600000e+07  5.600000e+07  1.300000e+07      92.000000   6739.000000   \n",
       "\n",
       "           brand_id  quantity_sold  rating_average  \n",
       "count  2.790000e+03    2790.000000     2790.000000  \n",
       "mean   8.486860e+05     966.222222        4.462545  \n",
       "std    1.764802e+06    4178.606295        1.001536  \n",
       "min    1.782500e+04       1.000000        0.000000  \n",
       "25%    1.114610e+05      11.000000        4.500000  \n",
       "50%    1.114610e+05      73.000000        4.700000  \n",
       "75%    3.689340e+05     447.000000        5.000000  \n",
       "max    8.140035e+06  127617.000000        5.000000  "
      ]
     },
     "execution_count": 5,
     "metadata": {},
     "output_type": "execute_result"
    }
   ],
   "source": [
    "df.describe()"
   ]
  },
  {
   "cell_type": "code",
   "execution_count": 6,
   "id": "20c22d34",
   "metadata": {},
   "outputs": [
    {
     "data": {
      "text/plain": [
       "<AxesSubplot:>"
      ]
     },
     "execution_count": 6,
     "metadata": {},
     "output_type": "execute_result"
    },
    {
     "data": {
      "image/png": "[encoded data removed]",
      "text/plain": [
       "<Figure size 432x288 with 1 Axes>"
      ]
     },
     "metadata": {
      "needs_background": "light"
     },
     "output_type": "display_data"
    }
   ],
   "source": [
    "df['price'].plot(kind='box')"
   ]
  },
  {
   "cell_type": "code",
   "execution_count": 7,
   "id": "3c3bb37c",
   "metadata": {},
   "outputs": [],
   "source": [
    "Q1 = df['price'].quantile(0.25)\n",
    "Q3 = df['price'].quantile(0.75)\n",
    "IQR = Q3 - Q1\n",
    "IQR\n",
    "lower_bound = Q1 - 1.5 * IQR\n",
    "upper_bound = Q3 + 1.5 * IQR\n",
    "df=df[(df['price'] > lower_bound) & (df['price'] < upper_bound)]"
   ]
  },
  {
   "cell_type": "code",
   "execution_count": 8,
   "id": "40b260f1",
   "metadata": {},
   "outputs": [
    {
     "data": {
      "text/plain": [
       "<AxesSubplot:>"
      ]
     },
     "execution_count": 8,
     "metadata": {},
     "output_type": "execute_result"
    },
    {
     "data": {
      "image/png": "[encoded data removed]",
      "text/plain": [
       "<Figure size 432x288 with 1 Axes>"
      ]
     },
     "metadata": {
      "needs_background": "light"
     },
     "output_type": "display_data"
    }
   ],
   "source": [
    "df['price'].plot(kind='box')"
   ]
  },
  {
   "cell_type": "code",
   "execution_count": 9,
   "id": "5f73ee46",
   "metadata": {
    "scrolled": false
   },
   "outputs": [
    {
     "data": {
      "image/png": "[encoded data removed]",
      "text/plain": [
       "<Figure size 1440x648 with 2 Axes>"
      ]
     },
     "metadata": {
      "needs_background": "light"
     },
     "output_type": "display_data"
    }
   ],
   "source": [
    "corr = df.corr()\n",
    "fig, ax = plt.subplots(figsize=(20,9))    \n",
    "sns.heatmap(corr, annot=True, linewidths=.5);"
   ]
  },
  {
   "cell_type": "code",
   "execution_count": 10,
   "id": "31a78508",
   "metadata": {},
   "outputs": [
    {
     "data": {
      "text/plain": [
       "<AxesSubplot:xlabel='category_type', ylabel='count'>"
      ]
     },
     "execution_count": 10,
     "metadata": {},
     "output_type": "execute_result"
    },
    {
     "data": {
      "image/png": "[encoded data removed]",
      "text/plain": [
       "<Figure size 432x288 with 1 Axes>"
      ]
     },
     "metadata": {
      "needs_background": "light"
     },
     "output_type": "display_data"
    }
   ],
   "source": [
    "sns.countplot(data=df,x='category_type', palette='Blues')"
   ]
  },
  {
   "cell_type": "code",
   "execution_count": 11,
   "id": "aad8ca4e",
   "metadata": {},
   "outputs": [
    {
     "data": {
      "text/html": [
       "<div>\n",
       "<style scoped>\n",
       "    .dataframe tbody tr th:only-of-type {\n",
       "        vertical-align: middle;\n",
       "    }\n",
       "\n",
       "    .dataframe tbody tr th {\n",
       "        vertical-align: top;\n",
       "    }\n",
       "\n",
       "    .dataframe thead th {\n",
       "        text-align: right;\n",
       "    }\n",
       "</style>\n",
       "<table border=\"1\" class=\"dataframe\">\n",
       "  <thead>\n",
       "    <tr style=\"text-align: right;\">\n",
       "      <th></th>\n",
       "      <th>price</th>\n",
       "      <th>list_price</th>\n",
       "      <th>discount</th>\n",
       "      <th>discount_rate</th>\n",
       "      <th>review_count</th>\n",
       "      <th>brand_id</th>\n",
       "      <th>brand_name</th>\n",
       "      <th>quantity_sold</th>\n",
       "      <th>rating_average</th>\n",
       "      <th>category_type</th>\n",
       "      <th>category_id</th>\n",
       "    </tr>\n",
       "  </thead>\n",
       "  <tbody>\n",
       "    <tr>\n",
       "      <th>226</th>\n",
       "      <td>6000.0</td>\n",
       "      <td>72000.0</td>\n",
       "      <td>66000.0</td>\n",
       "      <td>92.0</td>\n",
       "      <td>18.0</td>\n",
       "      <td>26283.0</td>\n",
       "      <td>Pigeon</td>\n",
       "      <td>265.0</td>\n",
       "      <td>5.0</td>\n",
       "      <td>do-choi-me-be</td>\n",
       "      <td>2549</td>\n",
       "    </tr>\n",
       "    <tr>\n",
       "      <th>69</th>\n",
       "      <td>49000.0</td>\n",
       "      <td>346000.0</td>\n",
       "      <td>297000.0</td>\n",
       "      <td>86.0</td>\n",
       "      <td>9.0</td>\n",
       "      <td>8140035.0</td>\n",
       "      <td>SIXDO</td>\n",
       "      <td>46.0</td>\n",
       "      <td>5.0</td>\n",
       "      <td>phu-kien-thoi-trang</td>\n",
       "      <td>27498</td>\n",
       "    </tr>\n",
       "    <tr>\n",
       "      <th>81</th>\n",
       "      <td>490000.0</td>\n",
       "      <td>2500000.0</td>\n",
       "      <td>2010000.0</td>\n",
       "      <td>80.0</td>\n",
       "      <td>28.0</td>\n",
       "      <td>160667.0</td>\n",
       "      <td>ZAGG</td>\n",
       "      <td>76.0</td>\n",
       "      <td>4.6</td>\n",
       "      <td>thiet-bi-kts-phu-kien-so</td>\n",
       "      <td>1815</td>\n",
       "    </tr>\n",
       "    <tr>\n",
       "      <th>67</th>\n",
       "      <td>115000.0</td>\n",
       "      <td>520000.0</td>\n",
       "      <td>405000.0</td>\n",
       "      <td>78.0</td>\n",
       "      <td>45.0</td>\n",
       "      <td>537199.0</td>\n",
       "      <td>SARIFA</td>\n",
       "      <td>137.0</td>\n",
       "      <td>4.7</td>\n",
       "      <td>phu-kien-thoi-trang</td>\n",
       "      <td>27498</td>\n",
       "    </tr>\n",
       "    <tr>\n",
       "      <th>160</th>\n",
       "      <td>31000.0</td>\n",
       "      <td>129000.0</td>\n",
       "      <td>98000.0</td>\n",
       "      <td>76.0</td>\n",
       "      <td>178.0</td>\n",
       "      <td>526847.0</td>\n",
       "      <td>DUWA</td>\n",
       "      <td>566.0</td>\n",
       "      <td>4.7</td>\n",
       "      <td>giay-dep-nam</td>\n",
       "      <td>1686</td>\n",
       "    </tr>\n",
       "    <tr>\n",
       "      <th>...</th>\n",
       "      <td>...</td>\n",
       "      <td>...</td>\n",
       "      <td>...</td>\n",
       "      <td>...</td>\n",
       "      <td>...</td>\n",
       "      <td>...</td>\n",
       "      <td>...</td>\n",
       "      <td>...</td>\n",
       "      <td>...</td>\n",
       "      <td>...</td>\n",
       "      <td>...</td>\n",
       "    </tr>\n",
       "    <tr>\n",
       "      <th>90</th>\n",
       "      <td>191000.0</td>\n",
       "      <td>191000.0</td>\n",
       "      <td>0.0</td>\n",
       "      <td>0.0</td>\n",
       "      <td>2.0</td>\n",
       "      <td>111461.0</td>\n",
       "      <td>OEM</td>\n",
       "      <td>5.0</td>\n",
       "      <td>4.5</td>\n",
       "      <td>giay-dep-nu</td>\n",
       "      <td>1703</td>\n",
       "    </tr>\n",
       "    <tr>\n",
       "      <th>91</th>\n",
       "      <td>199000.0</td>\n",
       "      <td>199000.0</td>\n",
       "      <td>0.0</td>\n",
       "      <td>0.0</td>\n",
       "      <td>2.0</td>\n",
       "      <td>111461.0</td>\n",
       "      <td>OEM</td>\n",
       "      <td>4.0</td>\n",
       "      <td>4.0</td>\n",
       "      <td>giay-dep-nu</td>\n",
       "      <td>1703</td>\n",
       "    </tr>\n",
       "    <tr>\n",
       "      <th>86</th>\n",
       "      <td>639000.0</td>\n",
       "      <td>639000.0</td>\n",
       "      <td>0.0</td>\n",
       "      <td>0.0</td>\n",
       "      <td>0.0</td>\n",
       "      <td>111461.0</td>\n",
       "      <td>OEM</td>\n",
       "      <td>1.0</td>\n",
       "      <td>0.0</td>\n",
       "      <td>laptop-may-vi-tinh-linh-kien</td>\n",
       "      <td>1846</td>\n",
       "    </tr>\n",
       "    <tr>\n",
       "      <th>85</th>\n",
       "      <td>118000.0</td>\n",
       "      <td>118000.0</td>\n",
       "      <td>0.0</td>\n",
       "      <td>0.0</td>\n",
       "      <td>71.0</td>\n",
       "      <td>111461.0</td>\n",
       "      <td>OEM</td>\n",
       "      <td>721.0</td>\n",
       "      <td>4.7</td>\n",
       "      <td>laptop-may-vi-tinh-linh-kien</td>\n",
       "      <td>1846</td>\n",
       "    </tr>\n",
       "    <tr>\n",
       "      <th>110</th>\n",
       "      <td>648999.0</td>\n",
       "      <td>648999.0</td>\n",
       "      <td>0.0</td>\n",
       "      <td>0.0</td>\n",
       "      <td>44.0</td>\n",
       "      <td>153086.0</td>\n",
       "      <td>RAVPower</td>\n",
       "      <td>134.0</td>\n",
       "      <td>4.8</td>\n",
       "      <td>may-anh</td>\n",
       "      <td>1801</td>\n",
       "    </tr>\n",
       "  </tbody>\n",
       "</table>\n",
       "<p>2449 rows × 11 columns</p>\n",
       "</div>"
      ],
      "text/plain": [
       "        price  list_price   discount  discount_rate  review_count   brand_id  \\\n",
       "226    6000.0     72000.0    66000.0           92.0          18.0    26283.0   \n",
       "69    49000.0    346000.0   297000.0           86.0           9.0  8140035.0   \n",
       "81   490000.0   2500000.0  2010000.0           80.0          28.0   160667.0   \n",
       "67   115000.0    520000.0   405000.0           78.0          45.0   537199.0   \n",
       "160   31000.0    129000.0    98000.0           76.0         178.0   526847.0   \n",
       "..        ...         ...        ...            ...           ...        ...   \n",
       "90   191000.0    191000.0        0.0            0.0           2.0   111461.0   \n",
       "91   199000.0    199000.0        0.0            0.0           2.0   111461.0   \n",
       "86   639000.0    639000.0        0.0            0.0           0.0   111461.0   \n",
       "85   118000.0    118000.0        0.0            0.0          71.0   111461.0   \n",
       "110  648999.0    648999.0        0.0            0.0          44.0   153086.0   \n",
       "\n",
       "    brand_name  quantity_sold  rating_average                 category_type  \\\n",
       "226     Pigeon          265.0             5.0                 do-choi-me-be   \n",
       "69       SIXDO           46.0             5.0           phu-kien-thoi-trang   \n",
       "81        ZAGG           76.0             4.6      thiet-bi-kts-phu-kien-so   \n",
       "67      SARIFA          137.0             4.7           phu-kien-thoi-trang   \n",
       "160       DUWA          566.0             4.7                  giay-dep-nam   \n",
       "..         ...            ...             ...                           ...   \n",
       "90         OEM            5.0             4.5                   giay-dep-nu   \n",
       "91         OEM            4.0             4.0                   giay-dep-nu   \n",
       "86         OEM            1.0             0.0  laptop-may-vi-tinh-linh-kien   \n",
       "85         OEM          721.0             4.7  laptop-may-vi-tinh-linh-kien   \n",
       "110   RAVPower          134.0             4.8                       may-anh   \n",
       "\n",
       "    category_id  \n",
       "226        2549  \n",
       "69        27498  \n",
       "81         1815  \n",
       "67        27498  \n",
       "160        1686  \n",
       "..          ...  \n",
       "90         1703  \n",
       "91         1703  \n",
       "86         1846  \n",
       "85         1846  \n",
       "110        1801  \n",
       "\n",
       "[2449 rows x 11 columns]"
      ]
     },
     "execution_count": 11,
     "metadata": {},
     "output_type": "execute_result"
    }
   ],
   "source": [
    "df.sort_values(by='discount_rate',ascending=False)"
   ]
  },
  {
   "cell_type": "code",
   "execution_count": 12,
   "id": "3235b885",
   "metadata": {},
   "outputs": [
    {
     "data": {
      "text/html": [
       "<div>\n",
       "<style scoped>\n",
       "    .dataframe tbody tr th:only-of-type {\n",
       "        vertical-align: middle;\n",
       "    }\n",
       "\n",
       "    .dataframe tbody tr th {\n",
       "        vertical-align: top;\n",
       "    }\n",
       "\n",
       "    .dataframe thead th {\n",
       "        text-align: right;\n",
       "    }\n",
       "</style>\n",
       "<table border=\"1\" class=\"dataframe\">\n",
       "  <thead>\n",
       "    <tr style=\"text-align: right;\">\n",
       "      <th></th>\n",
       "      <th>price</th>\n",
       "      <th>list_price</th>\n",
       "      <th>discount</th>\n",
       "      <th>discount_rate</th>\n",
       "      <th>review_count</th>\n",
       "      <th>brand_id</th>\n",
       "      <th>brand_name</th>\n",
       "      <th>quantity_sold</th>\n",
       "      <th>rating_average</th>\n",
       "      <th>category_type</th>\n",
       "      <th>category_id</th>\n",
       "    </tr>\n",
       "  </thead>\n",
       "  <tbody>\n",
       "    <tr>\n",
       "      <th>8</th>\n",
       "      <td>331000.0</td>\n",
       "      <td>677000.0</td>\n",
       "      <td>346000.0</td>\n",
       "      <td>51.0</td>\n",
       "      <td>6739.0</td>\n",
       "      <td>48077.0</td>\n",
       "      <td>LocknLock</td>\n",
       "      <td>36658.0</td>\n",
       "      <td>4.7</td>\n",
       "      <td>nha-cua-doi-song</td>\n",
       "      <td>1883</td>\n",
       "    </tr>\n",
       "    <tr>\n",
       "      <th>19</th>\n",
       "      <td>119000.0</td>\n",
       "      <td>149000.0</td>\n",
       "      <td>30000.0</td>\n",
       "      <td>20.0</td>\n",
       "      <td>4192.0</td>\n",
       "      <td>25422.0</td>\n",
       "      <td>Xiaomi</td>\n",
       "      <td>40584.0</td>\n",
       "      <td>4.7</td>\n",
       "      <td>thiet-bi-kts-phu-kien-so</td>\n",
       "      <td>1815</td>\n",
       "    </tr>\n",
       "    <tr>\n",
       "      <th>17</th>\n",
       "      <td>290000.0</td>\n",
       "      <td>400000.0</td>\n",
       "      <td>110000.0</td>\n",
       "      <td>28.0</td>\n",
       "      <td>3782.0</td>\n",
       "      <td>50629.0</td>\n",
       "      <td>ANKER</td>\n",
       "      <td>12253.0</td>\n",
       "      <td>5.0</td>\n",
       "      <td>thiet-bi-kts-phu-kien-so</td>\n",
       "      <td>1815</td>\n",
       "    </tr>\n",
       "    <tr>\n",
       "      <th>1</th>\n",
       "      <td>419000.0</td>\n",
       "      <td>799000.0</td>\n",
       "      <td>380000.0</td>\n",
       "      <td>48.0</td>\n",
       "      <td>3709.0</td>\n",
       "      <td>746615.0</td>\n",
       "      <td>Parroti</td>\n",
       "      <td>13826.0</td>\n",
       "      <td>4.8</td>\n",
       "      <td>nha-cua-doi-song</td>\n",
       "      <td>1883</td>\n",
       "    </tr>\n",
       "    <tr>\n",
       "      <th>82</th>\n",
       "      <td>152000.0</td>\n",
       "      <td>270000.0</td>\n",
       "      <td>118000.0</td>\n",
       "      <td>44.0</td>\n",
       "      <td>3416.0</td>\n",
       "      <td>65071.0</td>\n",
       "      <td>L'amont En Provence</td>\n",
       "      <td>50872.0</td>\n",
       "      <td>4.6</td>\n",
       "      <td>lam-dep-suc-khoe</td>\n",
       "      <td>1520</td>\n",
       "    </tr>\n",
       "    <tr>\n",
       "      <th>...</th>\n",
       "      <td>...</td>\n",
       "      <td>...</td>\n",
       "      <td>...</td>\n",
       "      <td>...</td>\n",
       "      <td>...</td>\n",
       "      <td>...</td>\n",
       "      <td>...</td>\n",
       "      <td>...</td>\n",
       "      <td>...</td>\n",
       "      <td>...</td>\n",
       "      <td>...</td>\n",
       "    </tr>\n",
       "    <tr>\n",
       "      <th>16</th>\n",
       "      <td>19000.0</td>\n",
       "      <td>19000.0</td>\n",
       "      <td>0.0</td>\n",
       "      <td>0.0</td>\n",
       "      <td>0.0</td>\n",
       "      <td>111461.0</td>\n",
       "      <td>OEM</td>\n",
       "      <td>2.0</td>\n",
       "      <td>0.0</td>\n",
       "      <td>giay-dep-nam</td>\n",
       "      <td>1686</td>\n",
       "    </tr>\n",
       "    <tr>\n",
       "      <th>69</th>\n",
       "      <td>24999.0</td>\n",
       "      <td>24999.0</td>\n",
       "      <td>0.0</td>\n",
       "      <td>0.0</td>\n",
       "      <td>0.0</td>\n",
       "      <td>111461.0</td>\n",
       "      <td>OEM</td>\n",
       "      <td>2.0</td>\n",
       "      <td>0.0</td>\n",
       "      <td>giay-dep-nu</td>\n",
       "      <td>1703</td>\n",
       "    </tr>\n",
       "    <tr>\n",
       "      <th>107</th>\n",
       "      <td>396000.0</td>\n",
       "      <td>396000.0</td>\n",
       "      <td>0.0</td>\n",
       "      <td>0.0</td>\n",
       "      <td>0.0</td>\n",
       "      <td>41048.0</td>\n",
       "      <td>Sunhouse</td>\n",
       "      <td>5.0</td>\n",
       "      <td>0.0</td>\n",
       "      <td>dien-gia-dung</td>\n",
       "      <td>1882</td>\n",
       "    </tr>\n",
       "    <tr>\n",
       "      <th>52</th>\n",
       "      <td>32340.0</td>\n",
       "      <td>36162.0</td>\n",
       "      <td>3822.0</td>\n",
       "      <td>11.0</td>\n",
       "      <td>0.0</td>\n",
       "      <td>111461.0</td>\n",
       "      <td>OEM</td>\n",
       "      <td>1.0</td>\n",
       "      <td>0.0</td>\n",
       "      <td>balo-va-vali</td>\n",
       "      <td>6000</td>\n",
       "    </tr>\n",
       "    <tr>\n",
       "      <th>82</th>\n",
       "      <td>859000.0</td>\n",
       "      <td>899000.0</td>\n",
       "      <td>40000.0</td>\n",
       "      <td>4.0</td>\n",
       "      <td>0.0</td>\n",
       "      <td>33036.0</td>\n",
       "      <td>Prolink</td>\n",
       "      <td>1.0</td>\n",
       "      <td>0.0</td>\n",
       "      <td>laptop-may-vi-tinh-linh-kien</td>\n",
       "      <td>1846</td>\n",
       "    </tr>\n",
       "  </tbody>\n",
       "</table>\n",
       "<p>2449 rows × 11 columns</p>\n",
       "</div>"
      ],
      "text/plain": [
       "        price  list_price  discount  discount_rate  review_count  brand_id  \\\n",
       "8    331000.0    677000.0  346000.0           51.0        6739.0   48077.0   \n",
       "19   119000.0    149000.0   30000.0           20.0        4192.0   25422.0   \n",
       "17   290000.0    400000.0  110000.0           28.0        3782.0   50629.0   \n",
       "1    419000.0    799000.0  380000.0           48.0        3709.0  746615.0   \n",
       "82   152000.0    270000.0  118000.0           44.0        3416.0   65071.0   \n",
       "..        ...         ...       ...            ...           ...       ...   \n",
       "16    19000.0     19000.0       0.0            0.0           0.0  111461.0   \n",
       "69    24999.0     24999.0       0.0            0.0           0.0  111461.0   \n",
       "107  396000.0    396000.0       0.0            0.0           0.0   41048.0   \n",
       "52    32340.0     36162.0    3822.0           11.0           0.0  111461.0   \n",
       "82   859000.0    899000.0   40000.0            4.0           0.0   33036.0   \n",
       "\n",
       "              brand_name  quantity_sold  rating_average  \\\n",
       "8              LocknLock        36658.0             4.7   \n",
       "19                Xiaomi        40584.0             4.7   \n",
       "17                 ANKER        12253.0             5.0   \n",
       "1                Parroti        13826.0             4.8   \n",
       "82   L'amont En Provence        50872.0             4.6   \n",
       "..                   ...            ...             ...   \n",
       "16                   OEM            2.0             0.0   \n",
       "69                   OEM            2.0             0.0   \n",
       "107             Sunhouse            5.0             0.0   \n",
       "52                   OEM            1.0             0.0   \n",
       "82               Prolink            1.0             0.0   \n",
       "\n",
       "                    category_type category_id  \n",
       "8                nha-cua-doi-song        1883  \n",
       "19       thiet-bi-kts-phu-kien-so        1815  \n",
       "17       thiet-bi-kts-phu-kien-so        1815  \n",
       "1                nha-cua-doi-song        1883  \n",
       "82               lam-dep-suc-khoe        1520  \n",
       "..                            ...         ...  \n",
       "16                   giay-dep-nam        1686  \n",
       "69                    giay-dep-nu        1703  \n",
       "107                 dien-gia-dung        1882  \n",
       "52                   balo-va-vali        6000  \n",
       "82   laptop-may-vi-tinh-linh-kien        1846  \n",
       "\n",
       "[2449 rows x 11 columns]"
      ]
     },
     "execution_count": 12,
     "metadata": {},
     "output_type": "execute_result"
    }
   ],
   "source": [
    "df.sort_values(by='review_count',ascending=False)"
   ]
  },
  {
   "cell_type": "code",
   "execution_count": 13,
   "id": "52f76584",
   "metadata": {},
   "outputs": [
    {
     "data": {
      "text/plain": [
       "brand_name\n",
       "Casio          868000.0\n",
       "Xiaomi         863000.0\n",
       "Philips        859000.0\n",
       "LocknLock      859000.0\n",
       "Prolink        859000.0\n",
       "                 ...   \n",
       "CCC             19000.0\n",
       "jones'.         18000.0\n",
       "FPT             18000.0\n",
       "BB              15000.0\n",
       "Rhino Store      8000.0\n",
       "Name: price, Length: 630, dtype: float64"
      ]
     },
     "execution_count": 13,
     "metadata": {},
     "output_type": "execute_result"
    }
   ],
   "source": [
    "df.groupby(['brand_name']).max()['price'].sort_values(ascending=False)"
   ]
  },
  {
   "cell_type": "code",
   "execution_count": 14,
   "id": "8e0131f7",
   "metadata": {},
   "outputs": [
    {
     "data": {
      "text/plain": [
       "brand_name\n",
       "Prolink                 859000.0\n",
       "Fatz Baby               850000.0\n",
       "Nature's Way            820000.0\n",
       "Covergirl               818000.0\n",
       "Hoto                    809000.0\n",
       "                          ...   \n",
       "Rhino Store               8000.0\n",
       "Pigeon                    6000.0\n",
       "TQJ                       4950.0\n",
       "OEM                       3000.0\n",
       "Siêu Thị Thiên Nhiên      2000.0\n",
       "Name: price, Length: 630, dtype: float64"
      ]
     },
     "execution_count": 14,
     "metadata": {},
     "output_type": "execute_result"
    }
   ],
   "source": [
    "df.groupby(['brand_name']).min()['price'].sort_values(ascending=False)"
   ]
  },
  {
   "cell_type": "code",
   "execution_count": 15,
   "id": "f64420df",
   "metadata": {},
   "outputs": [
    {
     "data": {
      "text/plain": [
       "brand_name\n",
       "Simply                 127617.0\n",
       "MILO                    93271.0\n",
       "L'amont En Provence     50872.0\n",
       "Xiaomi                  40584.0\n",
       "LocknLock               36658.0\n",
       "                         ...   \n",
       "REGAIL                      1.0\n",
       "RAM LEATHER                 1.0\n",
       "JIASHI                      1.0\n",
       "Spring Leaf                 1.0\n",
       "SUNPOLO                     1.0\n",
       "Name: quantity_sold, Length: 630, dtype: float64"
      ]
     },
     "execution_count": 15,
     "metadata": {},
     "output_type": "execute_result"
    }
   ],
   "source": [
    "df.groupby(['brand_name']).max()['quantity_sold'].sort_values(ascending=False)"
   ]
  },
  {
   "cell_type": "code",
   "execution_count": 16,
   "id": "ab3b8c92",
   "metadata": {},
   "outputs": [
    {
     "data": {
      "text/plain": [
       "brand_name\n",
       "MICOCAH            5.0\n",
       "Crénot            5.0\n",
       "Let-green          5.0\n",
       "Silcot             5.0\n",
       "Colorful           5.0\n",
       "                  ... \n",
       "LazyChef           0.0\n",
       "Rạng Đông          0.0\n",
       "Kingston           0.0\n",
       "Đệ Nhất Yến Đảo    0.0\n",
       "Meiji              0.0\n",
       "Name: rating_average, Length: 630, dtype: float64"
      ]
     },
     "execution_count": 16,
     "metadata": {},
     "output_type": "execute_result"
    }
   ],
   "source": [
    "df.groupby(['brand_name']).mean()['rating_average'].sort_values(ascending=False)"
   ]
  },
  {
   "cell_type": "code",
   "execution_count": 17,
   "id": "8cfd3247",
   "metadata": {},
   "outputs": [
    {
     "data": {
      "text/plain": [
       "category_type\n",
       "dong-ho-va-trang-suc            868000.0\n",
       "cross-border-hang-quoc-te       863000.0\n",
       "laptop-may-vi-tinh-linh-kien    859000.0\n",
       "dien-gia-dung                   859000.0\n",
       "the-thao-da-ngoai               859000.0\n",
       "may-anh                         850000.0\n",
       "thiet-bi-kts-phu-kien-so        850000.0\n",
       "do-choi-me-be                   850000.0\n",
       "lam-dep-suc-khoe                839000.0\n",
       "nha-cua-doi-song                800000.0\n",
       "giay-dep-nam                    799000.0\n",
       "balo-va-vali                    799000.0\n",
       "bach-hoa-online                 798000.0\n",
       "tui-thoi-trang-nam              792000.0\n",
       "dien-tu-dien-lanh               785000.0\n",
       "dien-thoai-may-tinh-bang        750000.0\n",
       "giay-dep-nu                     749500.0\n",
       "thoi-trang-nam                  699999.0\n",
       "o-to-xe-may-xe-dap              620600.0\n",
       "tui-vi-nu                       580000.0\n",
       "phu-kien-thoi-trang             520000.0\n",
       "thoi-trang-nu                   515000.0\n",
       "voucher-dich-vu                 249000.0\n",
       "Name: price, dtype: float64"
      ]
     },
     "execution_count": 17,
     "metadata": {},
     "output_type": "execute_result"
    }
   ],
   "source": [
    "df.groupby(['category_type']).max()['price'].sort_values(ascending=False)"
   ]
  },
  {
   "cell_type": "code",
   "execution_count": 18,
   "id": "72141244",
   "metadata": {},
   "outputs": [],
   "source": [
    "df=df.drop(['brand_name','category_type'],axis=1)"
   ]
  },
  {
   "cell_type": "code",
   "execution_count": 19,
   "id": "c5eef3fc",
   "metadata": {},
   "outputs": [],
   "source": [
    "y=df['price']\n",
    "X=df.drop(['price'],axis=1)"
   ]
  },
  {
   "cell_type": "code",
   "execution_count": 20,
   "id": "24baa5d6",
   "metadata": {},
   "outputs": [],
   "source": [
    "from sklearn.preprocessing import StandardScaler\n",
    "scaler = StandardScaler()\n",
    "X=scaler.fit_transform(X)"
   ]
  },
  {
   "cell_type": "code",
   "execution_count": 21,
   "id": "a752b521",
   "metadata": {},
   "outputs": [],
   "source": [
    "from sklearn.model_selection import train_test_split\n",
    "X_train, X_test, y_train, y_test = train_test_split(X, y, test_size=0.3)"
   ]
  },
  {
   "cell_type": "code",
   "execution_count": 22,
   "id": "31e48177",
   "metadata": {},
   "outputs": [],
   "source": [
    "from sklearn.metrics import mean_absolute_error, mean_squared_error, r2_score\n",
    "\n",
    "def regression_report(y_true, y_pred):\n",
    "    mae = mean_absolute_error(y_true, y_pred)\n",
    "    mse = mean_squared_error(y_true, y_pred)\n",
    "    rmse = mean_squared_error(y_true, y_pred, squared=False)\n",
    "    r2 = r2_score(y_true, y_pred)\n",
    "\n",
    "    print(\"Regression Report:\")\n",
    "    print(\"Mean Absolute Error (MAE):\", mae)\n",
    "    print(\"Mean Squared Error (MSE):\", mse)\n",
    "    print(\"Root Mean Squared Error (RMSE):\", rmse)\n",
    "    print(\"R-squared (R^2):\", r2)"
   ]
  },
  {
   "cell_type": "code",
   "execution_count": 23,
   "id": "9351168e",
   "metadata": {},
   "outputs": [
    {
     "name": "stdout",
     "output_type": "stream",
     "text": [
      "Regression Report:\n",
      "Mean Absolute Error (MAE): 8940.315646258503\n",
      "Mean Squared Error (MSE): 636212143.8204081\n",
      "Root Mean Squared Error (RMSE): 25223.246099984994\n",
      "R-squared (R^2): 0.9816716319868891\n"
     ]
    }
   ],
   "source": [
    "from sklearn.tree import DecisionTreeRegressor\n",
    "decision_tree = DecisionTreeRegressor(random_state=2023)\n",
    "decision_tree.fit(X_train, y_train)\n",
    "y_pred_tree=decision_tree.predict(X_test)\n",
    "regression_report(y_test, y_pred_tree)"
   ]
  },
  {
   "cell_type": "code",
   "execution_count": 24,
   "id": "e9ccdeb0",
   "metadata": {},
   "outputs": [
    {
     "name": "stdout",
     "output_type": "stream",
     "text": [
      "Regression Report:\n",
      "Mean Absolute Error (MAE): 4308.204680272109\n",
      "Mean Squared Error (MSE): 198115703.2353399\n",
      "Root Mean Squared Error (RMSE): 14075.35801446414\n",
      "R-squared (R^2): 0.994292568047713\n"
     ]
    }
   ],
   "source": [
    "from sklearn.ensemble import RandomForestRegressor\n",
    "rf=RandomForestRegressor(random_state=2023)\n",
    "rf.fit(X_train, y_train)\n",
    "y_pred_forest=rf.predict(X_test)\n",
    "regression_report(y_test, y_pred_forest)"
   ]
  },
  {
   "cell_type": "code",
   "execution_count": 25,
   "id": "7534e45b",
   "metadata": {},
   "outputs": [
    {
     "name": "stdout",
     "output_type": "stream",
     "text": [
      "Regression Report:\n",
      "Mean Absolute Error (MAE): 5846.998999416948\n",
      "Mean Squared Error (MSE): 165448588.90973184\n",
      "Root Mean Squared Error (RMSE): 12862.682026301196\n",
      "R-squared (R^2): 0.9952336612020982\n"
     ]
    }
   ],
   "source": [
    "from sklearn.ensemble import GradientBoostingRegressor\n",
    "gbm = GradientBoostingRegressor(n_estimators=100, learning_rate=0.1, max_depth=3, random_state=2023)\n",
    "gbm.fit(X_train, y_train)\n",
    "y_pred_gbm=gbm.predict(X_test)\n",
    "regression_report(y_test, y_pred_gbm)"
   ]
  },
  {
   "cell_type": "code",
   "execution_count": 26,
   "id": "bb49cf48",
   "metadata": {},
   "outputs": [
    {
     "name": "stdout",
     "output_type": "stream",
     "text": [
      "Regression Report:\n",
      "Mean Absolute Error (MAE): 25992.010884353742\n",
      "Mean Squared Error (MSE): 2038855140.8761904\n",
      "Root Mean Squared Error (RMSE): 45153.68358037017\n",
      "R-squared (R^2): 0.941263479940819\n"
     ]
    }
   ],
   "source": [
    "from sklearn.neighbors import KNeighborsRegressor\n",
    "k = 3\n",
    "knn = KNeighborsRegressor(n_neighbors=k)\n",
    "knn.fit(X_train, y_train)\n",
    "y_pred_knn=knn.predict(X_test)\n",
    "regression_report(y_test, y_pred_knn)"
   ]
  },
  {
   "cell_type": "code",
   "execution_count": 27,
   "id": "a06e8308",
   "metadata": {},
   "outputs": [
    {
     "name": "stdout",
     "output_type": "stream",
     "text": [
      "                               Mean  Standard Deviation\n",
      "model_name                                             \n",
      "GradientBoostingRegressor  0.996414            0.001509\n",
      "RandomForestRegressor      0.995531            0.001001\n",
      "DecisionTreeRegressor      0.988015            0.006023\n",
      "KNeighborsRegressor        0.937522            0.004447\n"
     ]
    }
   ],
   "source": [
    "from sklearn.model_selection import KFold, cross_val_score\n",
    "\n",
    "\n",
    "seed = 1000\n",
    "def generate_baseline_results(models, X, y, metrics, cv=3, plot_results=False):\n",
    "    # define k-fold:\n",
    "    kfold = KFold(n_splits=cv, shuffle=True, random_state=seed)\n",
    "    entries = []\n",
    "    for model in models:\n",
    "        model_name = model.__class__.__name__\n",
    "        scores = cross_val_score(model, X, y, scoring=metrics, cv=kfold)\n",
    "        for fold_idx, score in enumerate(scores):\n",
    "            entries.append((model_name, fold_idx, score))\n",
    "\n",
    "    cv_df = pd.DataFrame(entries, columns=['model_name', 'fold_id', 'accuracy_score'])\n",
    "\n",
    "    if plot_results:\n",
    "        sns.boxplot(x='model_name', y='accuracy_score', data=cv_df, color='lightblue', showmeans=True)\n",
    "        plt.title(\"Boxplot of Base-Line Model Accuracy using 5-fold cross-validation\")\n",
    "        plt.xticks(rotation=45)\n",
    "        plt.show()\n",
    "\n",
    "    # Summary result\n",
    "    mean = cv_df.groupby('model_name')['accuracy_score'].mean()\n",
    "    std = cv_df.groupby('model_name')['accuracy_score'].std()\n",
    "\n",
    "    baseline_results = pd.concat([mean, std], axis=1)\n",
    "    baseline_results.columns = ['Mean', 'Standard Deviation']\n",
    "\n",
    "    # sort by accuracy\n",
    "    baseline_results.sort_values(by='Mean', ascending=False, inplace=True)\n",
    "\n",
    "    return baseline_results\n",
    "\n",
    "models = [\n",
    "    GradientBoostingRegressor(),\n",
    "    RandomForestRegressor(),\n",
    "    DecisionTreeRegressor(),\n",
    "    KNeighborsRegressor(n_neighbors=k)\n",
    "]\n",
    "\n",
    "baseline_results = generate_baseline_results(models, X, y, metrics='r2', cv=3, plot_results=False)\n",
    "print(baseline_results)\n"
   ]
  },
  {
   "cell_type": "code",
   "execution_count": 28,
   "id": "c1bd4201",
   "metadata": {},
   "outputs": [],
   "source": [
    "import torch\n",
    "import torch.nn as nn\n",
    "import torch.nn.functional as F"
   ]
  },
  {
   "cell_type": "code",
   "execution_count": 29,
   "id": "9c9140c1",
   "metadata": {},
   "outputs": [],
   "source": [
    "class Net(nn.Module):\n",
    "    def __init__(self):\n",
    "        super(Net, self).__init__()\n",
    "        self.layer1 = nn.Linear(8, 4)\n",
    "        self.layer2 = nn.Linear(4, 4)\n",
    "        self.out = nn.Linear(4, 1)\n",
    "    def forward(self, x):\n",
    "        x = F.relu(self.layer1(x))\n",
    "        x = F.relu(self.layer2(x))\n",
    "        x = self.out(x)\n",
    "        return x\n",
    "\n",
    "net = Net()"
   ]
  },
  {
   "cell_type": "code",
   "execution_count": 30,
   "id": "b007e42f",
   "metadata": {},
   "outputs": [],
   "source": [
    "torch_X_train = torch.tensor(X_train).type(torch.float32)\n",
    "torch_y_train = torch.tensor(y_train.values).type(torch.float32)\n",
    "\n",
    "torch_X_test = torch.tensor(X_test).type(torch.float32)\n",
    "torch_y_test = torch.tensor(y_test.values).type(torch.float32)\n"
   ]
  },
  {
   "cell_type": "code",
   "execution_count": 31,
   "id": "8acaa125",
   "metadata": {},
   "outputs": [],
   "source": [
    "optimizer = torch.optim.Adam(net.parameters(), lr=0.01)\n",
    "criterion = nn.MSELoss()"
   ]
  },
  {
   "cell_type": "code",
   "execution_count": 32,
   "id": "043914d5",
   "metadata": {},
   "outputs": [
    {
     "name": "stderr",
     "output_type": "stream",
     "text": [
      "C:\\Users\\ACER\\anaconda\\lib\\site-packages\\torch\\nn\\modules\\loss.py:530: UserWarning: Using a target size (torch.Size([])) that is different to the input size (torch.Size([1])). This will likely lead to incorrect results due to broadcasting. Please ensure they have the same size.\n",
      "  return F.mse_loss(input, target, reduction=self.reduction)\n"
     ]
    }
   ],
   "source": [
    "for x, target in zip(torch_X_train, torch_y_train):\n",
    "    optimizer.zero_grad()\n",
    "    output = net(x)\n",
    "    loss = criterion(output, target)\n",
    "    loss.backward()\n",
    "    optimizer.step()"
   ]
  },
  {
   "cell_type": "code",
   "execution_count": 33,
   "id": "0c45747b",
   "metadata": {},
   "outputs": [],
   "source": [
    "total_loss = 0\n",
    "for x, target in zip(torch_X_test, torch_y_test):\n",
    "    output = net(x)\n",
    "    loss = criterion(output, target)\n",
    "    total_loss += loss\n",
    "\n",
    "avg_loss = total_loss / len(torch_X_test)"
   ]
  },
  {
   "cell_type": "code",
   "execution_count": 34,
   "id": "b777d3eb",
   "metadata": {},
   "outputs": [],
   "source": [
    "torch_rmse = torch.sqrt(avg_loss).detach().numpy()"
   ]
  },
  {
   "cell_type": "code",
   "execution_count": 35,
   "id": "75a89390",
   "metadata": {},
   "outputs": [
    {
     "name": "stdout",
     "output_type": "stream",
     "text": [
      "PyTorch RMSE: 228750.34\n"
     ]
    }
   ],
   "source": [
    "print(\"PyTorch RMSE:\", torch_rmse)"
   ]
  },
  {
   "cell_type": "code",
   "execution_count": null,
   "id": "1d6370f3",
   "metadata": {},
   "outputs": [],
   "source": []
  }
 ],
 "metadata": {
  "kernelspec": {
   "display_name": "Python 3 (ipykernel)",
   "language": "python",
   "name": "python3"
  },
  "language_info": {
   "codemirror_mode": {
    "name": "ipython",
    "version": 3
   },
   "file_extension": ".py",
   "mimetype": "text/x-python",
   "name": "python",
   "nbconvert_exporter": "python",
   "pygments_lexer": "ipython3",
   "version": "3.9.12"
  }
 },
 "nbformat": 4,
 "nbformat_minor": 5
}
